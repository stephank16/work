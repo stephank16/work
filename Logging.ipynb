{
 "cells": [
  {
   "cell_type": "code",
   "execution_count": 1,
   "metadata": {},
   "outputs": [
    {
     "name": "stderr",
     "output_type": "stream",
     "text": [
      "2021-03-20 17:21:36,594 - __main__ - DEBUG - debug message\n",
      "2021-03-20 17:21:36,595 - __main__ - INFO - info message\n",
      "2021-03-20 17:21:36,596 - __main__ - WARNING - warn message\n",
      "2021-03-20 17:21:36,596 - __main__ - ERROR - error message\n",
      "2021-03-20 17:21:36,597 - __main__ - CRITICAL - critical message\n"
     ]
    }
   ],
   "source": [
    "###################\n",
    "# SETUP LOGGER\n",
    "###################\n",
    "\n",
    "import logging\n",
    "\n",
    "# create logger\n",
    "logger = logging.getLogger(__name__)\n",
    "# set log level for all handlers to debug\n",
    "logger.setLevel(logging.DEBUG)\n",
    "\n",
    "# create console handler and set level to debug\n",
    "# best for development or debugging\n",
    "consoleHandler = logging.StreamHandler()\n",
    "consoleHandler.setLevel(logging.DEBUG)\n",
    "\n",
    "# create formatter\n",
    "formatter = logging.Formatter('%(asctime)s - %(name)s - %(levelname)s - %(message)s')\n",
    "\n",
    "# add formatter to ch\n",
    "consoleHandler.setFormatter(formatter)\n",
    "\n",
    "# add ch to logger\n",
    "logger.addHandler(consoleHandler)\n",
    "\n",
    "###################\n",
    "# USE LOGGER\n",
    "###################\n",
    "\n",
    "# example usage\n",
    "logger.debug('debug message')\n",
    "logger.info('info message')\n",
    "logger.warning('warn message')\n",
    "logger.error('error message')\n",
    "logger.critical('critical message')"
   ]
  },
  {
   "cell_type": "code",
   "execution_count": 2,
   "metadata": {},
   "outputs": [
    {
     "name": "stderr",
     "output_type": "stream",
     "text": [
      "2021-03-20 17:24:17,459 - __main__ - DEBUG - User User XYZ provided the numbers 100 and 0 for calculation\n",
      "2021-03-20 17:24:17,460 - __main__ - ERROR - Calculation was unsuccessful for user User XYZ with the inputs 100 and 0\n",
      "2021-03-20 17:24:17,461 - __main__ - ERROR - division by zero\n"
     ]
    }
   ],
   "source": [
    "# set log level for development\n",
    "logger.setLevel(logging.DEBUG)\n",
    "\n",
    "# context/ session information\n",
    "context_user = \"User XYZ\"\n",
    "a = 100\n",
    "b = 0\n",
    "\n",
    "# calculation\n",
    "logger.debug(\"User %s provided the numbers %s and %s for calculation\", context_user, a, b)\n",
    "try:\n",
    "    result = a / b\n",
    "    logger.info(\"Calculation successful for user %s with a result of: %s\", context_user, result)\n",
    "except ZeroDivisionError as error:\n",
    "    logger.error(\"Calculation was unsuccessful for user %s with the inputs %s and %s\", context_user, a, b)\n",
    "    logger.error(error)"
   ]
  },
  {
   "cell_type": "code",
   "execution_count": 3,
   "metadata": {},
   "outputs": [
    {
     "name": "stderr",
     "output_type": "stream",
     "text": [
      "2021-03-20 17:24:48,604 - __main__ - ERROR - Calculation was unsuccessful for user User XYZ with the inputs 100 and 0\n",
      "2021-03-20 17:24:48,604 - __main__ - ERROR - division by zero\n"
     ]
    }
   ],
   "source": [
    "# set log level for development\n",
    "logger.setLevel(logging.WARNING)\n",
    "\n",
    "# context/ session information\n",
    "context_user = \"User XYZ\"\n",
    "a = 100\n",
    "b = 0\n",
    "\n",
    "# calculation\n",
    "logger.debug(\"User %s provided the numbers %s and %s for calculation\", context_user, a, b)\n",
    "try:\n",
    "    result = a / b\n",
    "    logger.info(\"Calculation successful for user %s with a result of: %s\", context_user, result)\n",
    "except ZeroDivisionError as error:\n",
    "    logger.error(\"Calculation was unsuccessful for user %s with the inputs %s and %s\", context_user, a, b)\n",
    "    logger.error(error)"
   ]
  },
  {
   "cell_type": "code",
   "execution_count": 4,
   "metadata": {},
   "outputs": [
    {
     "name": "stderr",
     "output_type": "stream",
     "text": [
      "2021-03-20 17:25:18,848 - __main__ - DEBUG - User User XYZ provided the numbers 100 and 0 for calculation\n",
      "2021-03-20 17:25:18,848 - __main__ - DEBUG - User User XYZ provided the numbers 100 and 0 for calculation\n",
      "2021-03-20 17:25:18,849 - __main__ - ERROR - Calculation was unsuccessful for user User XYZ with the inputs 100 and 0\n",
      "2021-03-20 17:25:18,849 - __main__ - ERROR - Calculation was unsuccessful for user User XYZ with the inputs 100 and 0\n",
      "2021-03-20 17:25:18,850 - __main__ - ERROR - division by zero\n",
      "2021-03-20 17:25:18,850 - __main__ - ERROR - division by zero\n"
     ]
    }
   ],
   "source": [
    "###################\n",
    "# SETUP LOGGER\n",
    "###################\n",
    "\n",
    "import logging\n",
    "\n",
    "# create logger\n",
    "logger = logging.getLogger(__name__)\n",
    "# set log level for all handlers to debug\n",
    "logger.setLevel(logging.DEBUG)\n",
    "\n",
    "# create console handler and set level to debug\n",
    "consoleHandler = logging.StreamHandler()\n",
    "consoleHandler.setLevel(logging.DEBUG)\n",
    "\n",
    "# create file handler and set level to debug\n",
    "fileHandler = logging.FileHandler('test.log')\n",
    "fileHandler.setLevel(logging.DEBUG)\n",
    "\n",
    "# create formatter\n",
    "formatter = logging.Formatter('%(asctime)s - %(name)s - %(levelname)s - %(message)s')\n",
    "\n",
    "# add formatter to handlers\n",
    "consoleHandler.setFormatter(formatter)\n",
    "fileHandler.setFormatter(formatter)\n",
    "\n",
    "# add handlers to logger\n",
    "logger.addHandler(consoleHandler)\n",
    "logger.addHandler(fileHandler)\n",
    "\n",
    "# set log level for development\n",
    "logger.setLevel(logging.DEBUG)\n",
    "\n",
    "###################\n",
    "# USE LOGGER\n",
    "###################\n",
    "\n",
    "# context/ session information\n",
    "context_user = \"User XYZ\"\n",
    "a = 100\n",
    "b = 0\n",
    "\n",
    "# calculation\n",
    "logger.debug(\"User %s provided the numbers %s and %s for calculation\", context_user, a, b)\n",
    "try:\n",
    "    result = a / b\n",
    "    logger.info(\"Calculation successful for user %s with a result of: %s\", context_user, result)\n",
    "except ZeroDivisionError as error:\n",
    "    logger.error(\"Calculation was unsuccessful for user %s with the inputs %s and %s\", context_user, a, b)\n",
    "    logger.error(error)"
   ]
  },
  {
   "cell_type": "code",
   "execution_count": null,
   "metadata": {},
   "outputs": [],
   "source": []
  }
 ],
 "metadata": {
  "kernelspec": {
   "display_name": "Python 3",
   "language": "python",
   "name": "python3"
  },
  "language_info": {
   "codemirror_mode": {
    "name": "ipython",
    "version": 3
   },
   "file_extension": ".py",
   "mimetype": "text/x-python",
   "name": "python",
   "nbconvert_exporter": "python",
   "pygments_lexer": "ipython3",
   "version": "3.8.6"
  }
 },
 "nbformat": 4,
 "nbformat_minor": 4
}
