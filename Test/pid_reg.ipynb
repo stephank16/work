{
 "cells": [
  {
   "cell_type": "code",
   "execution_count": null,
   "metadata": {
    "collapsed": false,
    "jupyter": {
     "outputs_hidden": false
    }
   },
   "outputs": [],
   "source": [
    "{\n",
    "    \"client\": \"rest\",\n",
    "    \"handle_server_url\": \"https://epic5.storage.surfsara.nl:8003\",\n",
    "    \"private_key\": \"/home/stephan/PID/21.T12996_USER01_325_privkey.pem\",\n",
    "    \"certificate_only\": \"/home/stephan/PID/21.T12996_USER01_325_certificate_only.pem\",\n",
    "    \"prefix\": \"21.T12996\",\n",
    "    \"handleowner\": \"200:0.NA/21.T12996\",\n",
    "    \"HTTPS_verify\": \"/home/stephan/TERENA-SSL-CA-3_bundle.crt\" \n",
    "}"
   ]
  },
  {
   "cell_type": "code",
   "execution_count": 1,
   "metadata": {
    "collapsed": false,
    "jupyter": {
     "outputs_hidden": false
    }
   },
   "outputs": [
    {
     "name": "stderr",
     "output_type": "stream",
     "text": [
      "/home/stephan/miniconda3/envs/forge1/lib/python3.9/site-packages/urllib3/connectionpool.py:1013: InsecureRequestWarning: Unverified HTTPS request is being made to host 'epic5.storage.surfsara.nl'. Adding certificate verification is strongly advised. See: https://urllib3.readthedocs.io/en/latest/advanced-usage.html#ssl-warnings\n",
      "  warnings.warn(\n",
      "/home/stephan/miniconda3/envs/forge1/lib/python3.9/site-packages/urllib3/connectionpool.py:1013: InsecureRequestWarning: Unverified HTTPS request is being made to host 'epic5.storage.surfsara.nl'. Adding certificate verification is strongly advised. See: https://urllib3.readthedocs.io/en/latest/advanced-usage.html#ssl-warnings\n",
      "  warnings.warn(\n"
     ]
    },
    {
     "data": {
      "text/plain": [
       "'21.T12996/test1test1'"
      ]
     },
     "execution_count": 1,
     "metadata": {},
     "output_type": "execute_result"
    }
   ],
   "source": [
    "# Dependency: https://github.com/EUDAT-B2SAFE/PYHANDLE\n",
    "# 21.T12996\n",
    "import pyhandle\n",
    "\n",
    "# Prepare the client that talks to the handle server (via http/REST):\n",
    "creds = pyhandle.clientcredentials.PIDClientCredentials.load_from_JSON(\"test-prefix.json\")\n",
    "client = pyhandle.handleclient.PyHandleClient('rest').instantiate_with_credentials(creds, HTTPS_verify=False)\n",
    "\n",
    "# Define the PID string:\n",
    "handle = '21.T12996/test1test1'\n",
    "# or with a uuid:\n",
    "#prefix = '21.14100'\n",
    "#handle = client.generate_PID_name(prefix)\n",
    "\n",
    "# The URL where the users will be redirected to:\n",
    "url = 'https://dkrz.de'\n",
    "\n",
    "# Other metadata fields:\n",
    "other_values = {\n",
    "    'DESCRIPTION': 'test1 EOSC',\n",
    "    'CONTACT': 'kindermann@dkrz.de',\n",
    "    'CREATED': 20210625,\n",
    "    'TEST':'TRUE'\n",
    "}\n",
    "\n",
    "# Actual creation:\n",
    "client.register_handle(handle, url, overwrite=False, **other_values)\n",
    "\n",
    "# Check whether it worked at: hdl.handle.net"
   ]
  },
  {
   "cell_type": "code",
   "execution_count": 2,
   "metadata": {
    "tags": []
   },
   "outputs": [],
   "source": [
    "from pyhandle.handleclient import PyHandleClient\n",
    "client = PyHandleClient('rest')"
   ]
  },
  {
   "cell_type": "code",
   "execution_count": 4,
   "metadata": {},
   "outputs": [],
   "source": [
    "pid_id = '21.T12996/test1test1'"
   ]
  },
  {
   "cell_type": "code",
   "execution_count": 5,
   "metadata": {},
   "outputs": [],
   "source": [
    "pid_id = '21.14100/7ba3c844-8001-404b-b3df-7e5b680b4000'"
   ]
  },
  {
   "cell_type": "code",
   "execution_count": 6,
   "metadata": {
    "tags": []
   },
   "outputs": [
    {
     "ename": "GenericHandleError",
     "evalue": "Error during interaction with Handle Server (retrieving).\n\tHandle: 21.14100/7ba3c844-8001-404b-b3df-7e5b680b4000\n\tURL: https://hdl.handle.net/api/handles/21.14100/7ba3c844-8001-404b-b3df-7e5b680b4000\n\tHTTP Status Code: 500\n\tResponse: b'{\"responseCode\":2,\"message\":\"HandleException (SERVER_ERROR) Internal Error\",\"handle\":\"21.14100/7ba3c844-8001-404b-b3df-7e5b680b4000\"}'",
     "output_type": "error",
     "traceback": [
      "\u001b[0;31m---------------------------------------------------------------------------\u001b[0m",
      "\u001b[0;31mGenericHandleError\u001b[0m                        Traceback (most recent call last)",
      "\u001b[0;32m<ipython-input-6-a8e5f3ee1b45>\u001b[0m in \u001b[0;36m<module>\u001b[0;34m\u001b[0m\n\u001b[1;32m      1\u001b[0m \u001b[0;32mfrom\u001b[0m \u001b[0mpprint\u001b[0m \u001b[0;32mimport\u001b[0m \u001b[0mpprint\u001b[0m\u001b[0;34m\u001b[0m\u001b[0;34m\u001b[0m\u001b[0m\n\u001b[1;32m      2\u001b[0m \u001b[0;34m\u001b[0m\u001b[0m\n\u001b[0;32m----> 3\u001b[0;31m \u001b[0mresult\u001b[0m \u001b[0;34m=\u001b[0m \u001b[0mclient\u001b[0m\u001b[0;34m.\u001b[0m\u001b[0mretrieve_handle_record_json\u001b[0m\u001b[0;34m(\u001b[0m\u001b[0mpid_id\u001b[0m\u001b[0;34m)\u001b[0m\u001b[0;34m\u001b[0m\u001b[0;34m\u001b[0m\u001b[0m\n\u001b[0m\u001b[1;32m      4\u001b[0m \u001b[0;34m\u001b[0m\u001b[0m\n\u001b[1;32m      5\u001b[0m \u001b[0mpprint\u001b[0m\u001b[0;34m(\u001b[0m\u001b[0mresult\u001b[0m\u001b[0;34m)\u001b[0m\u001b[0;34m\u001b[0m\u001b[0;34m\u001b[0m\u001b[0m\n",
      "\u001b[0;32m~/miniconda3/envs/forge1/lib/python3.9/site-packages/pyhandle-1.0.4-py3.9.egg/pyhandle/handleclient.py\u001b[0m in \u001b[0;36mretrieve_handle_record_json\u001b[0;34m(self, handle)\u001b[0m\n\u001b[1;32m     78\u001b[0m \u001b[0;34m\u001b[0m\u001b[0m\n\u001b[1;32m     79\u001b[0m     \u001b[0;32mdef\u001b[0m \u001b[0mretrieve_handle_record_json\u001b[0m\u001b[0;34m(\u001b[0m\u001b[0mself\u001b[0m\u001b[0;34m,\u001b[0m \u001b[0mhandle\u001b[0m\u001b[0;34m)\u001b[0m\u001b[0;34m:\u001b[0m\u001b[0;34m\u001b[0m\u001b[0;34m\u001b[0m\u001b[0m\n\u001b[0;32m---> 80\u001b[0;31m         \u001b[0;32mreturn\u001b[0m \u001b[0mself\u001b[0m\u001b[0;34m.\u001b[0m\u001b[0mhandle_client\u001b[0m\u001b[0;34m.\u001b[0m\u001b[0mretrieve_handle_record_json\u001b[0m\u001b[0;34m(\u001b[0m\u001b[0mhandle\u001b[0m\u001b[0;34m)\u001b[0m\u001b[0;34m\u001b[0m\u001b[0;34m\u001b[0m\u001b[0m\n\u001b[0m\u001b[1;32m     81\u001b[0m \u001b[0;34m\u001b[0m\u001b[0m\n\u001b[1;32m     82\u001b[0m     \u001b[0;32mdef\u001b[0m \u001b[0mretrieve_handle_record\u001b[0m\u001b[0;34m(\u001b[0m\u001b[0mself\u001b[0m\u001b[0;34m,\u001b[0m \u001b[0mhandle\u001b[0m\u001b[0;34m,\u001b[0m \u001b[0mhandle_record_json\u001b[0m\u001b[0;34m=\u001b[0m\u001b[0;32mNone\u001b[0m\u001b[0;34m)\u001b[0m\u001b[0;34m:\u001b[0m\u001b[0;34m\u001b[0m\u001b[0;34m\u001b[0m\u001b[0m\n",
      "\u001b[0;32m~/miniconda3/envs/forge1/lib/python3.9/site-packages/pyhandle-1.0.4-py3.9.egg/pyhandle/client/resthandleclient.py\u001b[0m in \u001b[0;36mretrieve_handle_record_json\u001b[0;34m(self, handle)\u001b[0m\n\u001b[1;32m    283\u001b[0m             \u001b[0;32mreturn\u001b[0m \u001b[0mhandlerecord_json\u001b[0m\u001b[0;34m\u001b[0m\u001b[0;34m\u001b[0m\u001b[0m\n\u001b[1;32m    284\u001b[0m         \u001b[0;32melse\u001b[0m\u001b[0;34m:\u001b[0m\u001b[0;34m\u001b[0m\u001b[0;34m\u001b[0m\u001b[0m\n\u001b[0;32m--> 285\u001b[0;31m             raise GenericHandleError(\n\u001b[0m\u001b[1;32m    286\u001b[0m                 \u001b[0moperation\u001b[0m\u001b[0;34m=\u001b[0m\u001b[0;34m'retrieving'\u001b[0m\u001b[0;34m,\u001b[0m\u001b[0;34m\u001b[0m\u001b[0;34m\u001b[0m\u001b[0m\n\u001b[1;32m    287\u001b[0m                 \u001b[0mhandle\u001b[0m\u001b[0;34m=\u001b[0m\u001b[0mhandle\u001b[0m\u001b[0;34m,\u001b[0m\u001b[0;34m\u001b[0m\u001b[0;34m\u001b[0m\u001b[0m\n",
      "\u001b[0;31mGenericHandleError\u001b[0m: Error during interaction with Handle Server (retrieving).\n\tHandle: 21.14100/7ba3c844-8001-404b-b3df-7e5b680b4000\n\tURL: https://hdl.handle.net/api/handles/21.14100/7ba3c844-8001-404b-b3df-7e5b680b4000\n\tHTTP Status Code: 500\n\tResponse: b'{\"responseCode\":2,\"message\":\"HandleException (SERVER_ERROR) Internal Error\",\"handle\":\"21.14100/7ba3c844-8001-404b-b3df-7e5b680b4000\"}'"
     ]
    }
   ],
   "source": [
    "from pprint import pprint\n",
    "\n",
    "result = client.retrieve_handle_record_json(pid_id)\n",
    "\n",
    "pprint(result)\n",
    "\n",
    "info_types = ['FILE_SIZE', 'CHECKSUM','URL_ORIGINAL_DATA','URL_REPLICA','IS_PART_OF']\n",
    "\n",
    "# print metadata entry types and get specific type related entries\n",
    "print(\"Metadata entry types supported:\")\n",
    "res = {}\n",
    "for entry in result['values']:\n",
    "    print(entry['type'])\n",
    "    if entry['type'] in info_types:\n",
    "        res[entry['type']] = entry['data']['value'] "
   ]
  },
  {
   "cell_type": "code",
   "execution_count": null,
   "metadata": {},
   "outputs": [],
   "source": []
  }
 ],
 "metadata": {
  "anaconda-cloud": {},
  "kernelspec": {
   "display_name": "Python 3",
   "language": "python",
   "name": "python3"
  },
  "language_info": {
   "codemirror_mode": {
    "name": "ipython",
    "version": 3
   },
   "file_extension": ".py",
   "mimetype": "text/x-python",
   "name": "python",
   "nbconvert_exporter": "python",
   "pygments_lexer": "ipython3",
   "version": "3.9.4"
  },
  "toc-autonumbering": true,
  "toc-showcode": true,
  "toc-showmarkdowntxt": true
 },
 "nbformat": 4,
 "nbformat_minor": 4
}
