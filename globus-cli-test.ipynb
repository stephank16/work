{
 "cells": [
  {
   "cell_type": "code",
   "execution_count": 1,
   "id": "double-squad",
   "metadata": {},
   "outputs": [
    {
     "name": "stdout",
     "output_type": "stream",
     "text": [
      "You are running 'globus login', which should automatically open a browser window for you to login.\n",
      "If this fails or you experience difficulty, try 'globus login --no-local-server'\n",
      "---\n",
      "\n",
      "You have successfully logged in to the Globus CLI!\n",
      "\n",
      "You can check your primary identity with\n",
      "  globus whoami\n",
      "\n",
      "For information on which of your identities are in session use\n",
      "  globus session show\n",
      "\n",
      "Logout of the Globus CLI with\n",
      "  globus logout\n",
      "\n"
     ]
    }
   ],
   "source": [
    "!globus login\n"
   ]
  },
  {
   "cell_type": "code",
   "execution_count": 14,
   "id": "western-notice",
   "metadata": {},
   "outputs": [
    {
     "name": "stdout",
     "output_type": "stream",
     "text": [
      "ID                                   | Owner                 | Display Name                 \n",
      "------------------------------------ | --------------------- | -----------------------------\n",
      "9237ec18-df00-11e6-9d19-22000a1e3b52 | cedaesgf@globusid.org | cedaesgf#esgf-data-fedcheck  \n",
      "e5a88c34-a33a-11e5-99b5-22000b96db58 | cedaesgf@globusid.org | cedaesgf#esgf-data1          \n",
      "93a3266c-df00-11e6-9d19-22000a1e3b52 | cedaesgf@globusid.org | cedaesgf#esgf-dn-fedcheck-tmp\n",
      "35095c1e-a33f-11e5-99b5-22000b96db58 | cedaesgf@globusid.org | cedaesgf#esgf-data2          \n",
      "ee3aa1a0-7e4c-11e6-afc4-22000b92c261 | cedaesgf@globusid.org | CEDA ESGF DN1                \n",
      "e57f585c-f8eb-11e6-ba93-22000b9a448b | cedaesgf@globusid.org | cedaesgf#esgf-dn-fedcheck    \n",
      "4cc8c764-0bc1-11e6-a740-22000bf2d559 | ceda@globusid.org     | JASMIN gridftp server        \n"
     ]
    }
   ],
   "source": [
    "!globus endpoint search \"ceda esgf\"\n"
   ]
  },
  {
   "cell_type": "code",
   "execution_count": 9,
   "id": "interior-argument",
   "metadata": {},
   "outputs": [
    {
     "name": "stdout",
     "output_type": "stream",
     "text": [
      "Browser opened to web activation page\n"
     ]
    }
   ],
   "source": [
    "!globus endpoint activate --web ee3aa1a0-7e4c-11e6-afc4-22000b92c261\n",
    "# use ceda specific esgf open-id for login ... "
   ]
  },
  {
   "cell_type": "code",
   "execution_count": 13,
   "id": "understanding-mercury",
   "metadata": {},
   "outputs": [
    {
     "name": "stdout",
     "output_type": "stream",
     "text": [
      "Message: The transfer has been accepted and a task has been created and queued for execution\n",
      "Task ID: 516d6a1a-6547-11eb-827f-0275e0cda761\n"
     ]
    }
   ],
   "source": [
    "# HighresMip Daten:      /esg_cmip6/CMIP6/HighResMIP/\n",
    "# non-batch transfer test\n",
    "!globus transfer ee3aa1a0-7e4c-11e6-afc4-22000b92c261:/esg_cmip6/CMIP6/AerChemMIP/MRI/MRI-ESM2-0/histSST/r1i1p1f1/fx/sftlf/gn/latest/sftlf_fx_MRI-ESM2-0_histSST_r1i1p1f1_gn.nc ac6870f0-5d5e-11ea-960a-0afc9e7dd773:/~/mnt/lustre02/work/ik1017/Ingest/jaceda.nc"
   ]
  },
  {
   "cell_type": "code",
   "execution_count": 15,
   "id": "automated-start",
   "metadata": {},
   "outputs": [
    {
     "name": "stdout",
     "output_type": "stream",
     "text": [
      "import sys\n",
      "import argparse\n",
      "import os\n",
      "\n",
      "from random import SystemRandom\n",
      "from uuid import uuid4\n",
      "\n",
      "# Revised version by Matt Pritchard, CEDA/STFC to work with globus-cli\n",
      "\n",
      "def listEndpoints(gendpointDict):\n",
      "\n",
      "    endNames = list(gendpointDict.keys())\n",
      "    print(\"Endpoints involved:\")\n",
      "    for thisEndName in endNames:\n",
      "        print(thisEndName)\n",
      "\n",
      "def arguments(argv):\n",
      "\n",
      "    parser = argparse.ArgumentParser(description = \\\n",
      "        '''To use this script, you must have the Globus Command Line Interface\n",
      "        tools installed locally (see https://docs.globus.org/cli/)\n",
      "        The host where you install these tools does\n",
      "        NOT need to be one of the endpoints in the transfer.\n",
      "        This script makes use of the Globus CLI 'transfer' command.\n",
      "        You need to ensure the endpoints involved are activated, see \"Endpoints\n",
      "        to be activated\" in output (use \"globus endpoint activate\")\n",
      "        By default, the transfer command will:\n",
      "        - verify the checksum of the transfer\n",
      "        - encrypt the transfer\n",
      "        - and delete any fies at the user endpoint with the same name.'''\n",
      "            )\n",
      "    parser.add_argument('-e', '--user-endpoint', type=str, help='endpoint you wish to download files to', required=True)\n",
      "    parser.add_argument('-u', '--username', type=str, help='your Globus username', required=True)\n",
      "    parser.add_argument('-p', '--path', type=str, help='the path on your endpoint where you want files to be downloaded to', default='/~/')\n",
      "    parser.add_argument('-l', '--list-endpoints', help='List the endpoints to be activated and exit (no transfer attempted)', action='store_true')\n",
      "    parser._optionals.title = 'required and optional arguments'\n",
      "    args = parser.parse_args()\n",
      "\n",
      "    username = args.username\n",
      "    uendpoint = args.user_endpoint\n",
      "    upath = args.path\n",
      "    listonly = args.list_endpoints\n",
      "\n",
      "    if '/' in uendpoint:\n",
      "        print(\"Do not include the download path in the endpoint name, please use the -p option\")\n",
      "        sys.exit()\n",
      "    if '#' in upath:\n",
      "        print(\"The '#' character is invalid in your path, please re-enter\")\n",
      "        sys.exit()\n",
      "    if upath[0] != '/' and upath != '/~/':\n",
      "        upath = '/' + upath\n",
      "\n",
      "    return (uendpoint, username, upath, listonly)\n",
      "\n",
      "def getFiles(gendpointDict, uendpoint, username, upath):\n",
      "\n",
      "    label = str(uuid4())\n",
      "\n",
      "    endNames = list(gendpointDict.keys())\n",
      "\n",
      "    for thisEndName in endNames:\n",
      "\n",
      "        fileList = gendpointDict[thisEndName]\n",
      "\n",
      "        cryptogen = SystemRandom()\n",
      "        transferFile = '/tmp/transferList_' + thisEndName + '_' + str(cryptogen.randint(1,9999)) + '.txt'\n",
      "        file = open(transferFile, 'w')\n",
      "\n",
      "        for thisFile in fileList:\n",
      "\n",
      "            basename = os.path.basename(thisFile)\n",
      "\n",
      "            if upath[-1] != '/':\n",
      "                basename = '/' + basename\n",
      "\n",
      "            remote = thisFile\n",
      "            local = upath + basename\n",
      "\n",
      "            file.write(remote + ' ' + local + '\\n')\n",
      "\n",
      "        file.close()\n",
      "\n",
      "        os.system(\"globus transfer \"+thisEndName+\" \"+uendpoint+\" --batch --label \\\"CLI Batch\\\" < \"+transferFile)\n",
      "\n",
      "        os.remove(transferFile)\n",
      "\n",
      "    return\n",
      "\n",
      "if __name__ == '__main__':\n",
      "\n",
      "    gendpointDict = {'ee3aa1a0-7e4c-11e6-afc4-22000b92c261': [\"/esg_cmip6/CMIP6/HighResMIP/CNRM-CERFACS/CNRM-CM6-1-HR/hist-1950/r1i1p1f2/3hr/pr/gr/v20190221/pr_3hr_CNRM-CM6-1-HR_hist-1950_r1i1p1f2_gr_195001010130-195012312230.nc\",\n",
      "\"/esg_cmip6/CMIP6/HighResMIP/CNRM-CERFACS/CNRM-CM6-1-HR/hist-1950/r1i1p1f2/3hr/pr/gr/v20190221/pr_3hr_CNRM-CM6-1-HR_hist-1950_r1i1p1f2_gr_195101010130-195112312230.nc\",\n",
      "\"/esg_cmip6/CMIP6/HighResMIP/CNRM-CERFACS/CNRM-CM6-1-HR/hist-1950/r1i1p1f2/3hr/pr/gr/v20190221/pr_3hr_CNRM-CM6-1-HR_hist-1950_r1i1p1f2_gr_195201010130-195212312230.nc\",\n",
      "\"/esg_cmip6/CMIP6/HighResMIP/CNRM-CERFACS/CNRM-CM6-1-HR/hist-1950/r1i1p1f2/3hr/pr/gr/v20190221/pr_3hr_CNRM-CM6-1-HR_hist-1950_r1i1p1f2_gr_195301010130-195312312230.nc\",\n",
      "\"/esg_cmip6/CMIP6HighResMIP/CNRM-CERFACS/CNRM-CM6-1-HR/hist-1950/r1i1p1f2/3hr/pr/gr/v20190221/pr_3hr_CNRM-CM6-1-HR_hist-1950_r1i1p1f2_gr_195401010130-195412312230.nc\",\n",
      "\"/esg_cmip6/CMIP6HighResMIP/CNRM-CERFACS/CNRM-CM6-1-HR/hist-1950/r1i1p1f2/3hr/pr/gr/v20190221/pr_3hr_CNRM-CM6-1-HR_hist-1950_r1i1p1f2_gr_195501010130-195512312230.nc\",\n",
      "\"/esg_cmip6/CMIP6HighResMIP/CNRM-CERFACS/CNRM-CM6-1-HR/hist-1950/r1i1p1f2/3hr/pr/gr/v20190221/pr_3hr_CNRM-CM6-1-HR_hist-1950_r1i1p1f2_gr_195601010130-195612312230.nc\",\n",
      "\"/esg_cmip6/CMIP6HighResMIP/CNRM-CERFACS/CNRM-CM6-1-HR/hist-1950/r1i1p1f2/3hr/pr/gr/v20190221/pr_3hr_CNRM-CM6-1-HR_hist-1950_r1i1p1f2_gr_195701010130-195712312230.nc\",\n",
      "\"/esg_cmip6/CMIP6HighResMIP/CNRM-CERFACS/CNRM-CM6-1-HR/hist-1950/r1i1p1f2/3hr/pr/gr/v20190221/pr_3hr_CNRM-CM6-1-HR_hist-1950_r1i1p1f2_gr_195801010130-195812312230.nc\"]}\n",
      "    uendpoint, username, upath, listonly = arguments(sys.argv)\n",
      "    if (listonly):\n",
      "        listEndpoints(gendpointDict)\n",
      "    else:\n",
      "        getFiles(gendpointDict, uendpoint, username, upath)"
     ]
    }
   ],
   "source": [
    "!cat globus_download_cedatest.py"
   ]
  },
  {
   "cell_type": "code",
   "execution_count": null,
   "id": "standing-setup",
   "metadata": {},
   "outputs": [],
   "source": [
    "!python ./globus_download_cedatest.py -u k202015 -p \"/~/mnt/lustre02/work/ik1017/Ingest\" -e  ac6870f0-5d5e-11ea-960a-0afc9e7dd773\n",
    "#Message: The transfer has been accepted and a task has been created and queued for execution\n",
    "#Task ID: 5cd43e74-654c-11eb-9915-0aa9ddbe2755"
   ]
  },
  {
   "cell_type": "code",
   "execution_count": null,
   "id": "offshore-salem",
   "metadata": {},
   "outputs": [],
   "source": [
    "# note 1: some files do not exist ..\n",
    "# note 2: dowloaded 10 GByte in about a Minute -- rest is much slower .. !?"
   ]
  },
  {
   "cell_type": "raw",
   "id": "entitled-population",
   "metadata": {},
   "source": [
    "{\n",
    "\"context\": [\n",
    "{\n",
    "\"operation\": \"Directory List / File Scan\",\n",
    "\"path\": \"/esg_cmip6/CMIP6HighResMIP/CNRM-CERFACS/CNRM-CM6-1-HR/hist-1950/r1i1p1f2/3hr/pr/gr/v20190221/pr_3hr_CNRM-CM6-1-HR_hist-1950_r1i1p1f2_gr_195401010130-195412312230.nc\"\n",
    "}\n",
    "],\n",
    "\"error\": {\n",
    "\"body\": \"550-GlobusError: v=1 c=PATH_NOT_FOUND%0D%0A550-GridFTP-Errno: 2%0D%0A550-GridFTP-Reason: System error in stat%0D%0A550-GridFTP-Error-String: No such file or directory%0D%0A550 End.%0D%0A\",\n",
    "\"code\": 550,\n",
    "\"endpoint\": \"CEDA ESGF DN1 (ee3aa1a0-7e4c-11e6-afc4-22000b92c261)\",\n",
    "\"server\": \"gsiftp://esgf-dn1.ceda.ac.uk:2811\",\n",
    "\"type\": \"FTPServerError\"\n",
    "}\n",
    "}"
   ]
  }
 ],
 "metadata": {
  "kernelspec": {
   "display_name": "Python 3",
   "language": "python",
   "name": "python3"
  },
  "language_info": {
   "codemirror_mode": {
    "name": "ipython",
    "version": 3
   },
   "file_extension": ".py",
   "mimetype": "text/x-python",
   "name": "python",
   "nbconvert_exporter": "python",
   "pygments_lexer": "ipython3",
   "version": "3.8.6"
  }
 },
 "nbformat": 4,
 "nbformat_minor": 5
}
